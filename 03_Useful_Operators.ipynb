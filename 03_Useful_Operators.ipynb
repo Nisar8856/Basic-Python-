{
  "nbformat": 4,
  "nbformat_minor": 0,
  "metadata": {
    "kernelspec": {
      "display_name": "Python 3",
      "language": "python",
      "name": "python3"
    },
    "language_info": {
      "codemirror_mode": {
        "name": "ipython",
        "version": 3
      },
      "file_extension": ".py",
      "mimetype": "text/x-python",
      "name": "python",
      "nbconvert_exporter": "python",
      "pygments_lexer": "ipython3",
      "version": "3.7.3"
    },
    "colab": {
      "name": "03-Useful-Operators.ipynb",
      "provenance": []
    }
  },
  "cells": [
    {
      "cell_type": "markdown",
      "metadata": {
        "id": "bSAfHKZ340fC"
      },
      "source": [
        "# Useful Operators\n",
        "\n",
        "There are a few built-in functions and \"operators\" in Python that don't fit well into any category, so we will go over them in this lecture, let's begin!"
      ]
    },
    {
      "cell_type": "markdown",
      "metadata": {
        "id": "cdtYVYjF40fJ"
      },
      "source": [
        "## range\n",
        "\n",
        "The range function allows you to quickly *generate* a list of integers, this comes in handy a lot, so take note of how to use it! There are 3 parameters you can pass, a start, a stop, and a step size. Let's see some examples:"
      ]
    },
    {
      "cell_type": "markdown",
      "metadata": {
        "id": "RrRWE_Mp40fk"
      },
      "source": [
        "Note that this is a **generator** function, so to actually get a list out of it, we need to cast it to a list with **list()**. What is a generator? Its a special type of function that will generate information and not need to save it to memory. We haven't talked about functions or generators yet, so just keep this in your notes for now, we will discuss this in much more detail in later on in your training!"
      ]
    },
    {
      "cell_type": "code",
      "metadata": {
        "id": "p91qfQ3_40fl",
        "outputId": "b4b42bc6-c6af-4a27-effa-75b7f0e27e89",
        "colab": {
          "base_uri": "https://localhost:8080/"
        }
      },
      "source": [
        "# Notice how 11 is not included, up to but not including 11, just like slice notation!\n",
        "list(range(0,11))"
      ],
      "execution_count": 2,
      "outputs": [
        {
          "output_type": "execute_result",
          "data": {
            "text/plain": [
              "[0, 1, 2, 3, 4, 5, 6, 7, 8, 9, 10]"
            ]
          },
          "metadata": {
            "tags": []
          },
          "execution_count": 2
        }
      ]
    },
    {
      "cell_type": "code",
      "metadata": {
        "id": "_-UqXqsJ40fu",
        "outputId": "d2ef3e96-a6c4-41a9-a2d0-63e86d0472f4",
        "colab": {
          "base_uri": "https://localhost:8080/"
        }
      },
      "source": [
        "list(range(0,12,2))"
      ],
      "execution_count": 3,
      "outputs": [
        {
          "output_type": "execute_result",
          "data": {
            "text/plain": [
              "[0, 2, 4, 6, 8, 10]"
            ]
          },
          "metadata": {
            "tags": []
          },
          "execution_count": 3
        }
      ]
    },
    {
      "cell_type": "code",
      "metadata": {
        "id": "RhJh-H1W40f0",
        "outputId": "84ef4383-2b30-411d-e594-e025c679c107",
        "colab": {
          "base_uri": "https://localhost:8080/"
        }
      },
      "source": [
        "list(range(10,101,10))"
      ],
      "execution_count": 4,
      "outputs": [
        {
          "output_type": "execute_result",
          "data": {
            "text/plain": [
              "[10, 20, 30, 40, 50, 60, 70, 80, 90, 100]"
            ]
          },
          "metadata": {
            "tags": []
          },
          "execution_count": 4
        }
      ]
    },
    {
      "cell_type": "markdown",
      "metadata": {
        "id": "8NRRLjjI40he"
      },
      "source": [
        "## zip\n",
        "\n",
        "Notice the format enumerate actually returns, let's take a look by transforming it to a list()"
      ]
    },
    {
      "cell_type": "code",
      "metadata": {
        "id": "HlMJqV5A40hj"
      },
      "source": [
        "mylist1 = [1,2,3,4,5,6]\n",
        "mylist2 = ['a','b','c','d','e']"
      ],
      "execution_count": null,
      "outputs": []
    },
    {
      "cell_type": "code",
      "metadata": {
        "scrolled": true,
        "id": "i0u27_9440hp",
        "outputId": "5af437d9-49ef-4446-f5e9-6fefec671524"
      },
      "source": [
        "# This one is also a generator! We will explain this later, but for now let's transform it to a list\n",
        "list(zip(mylist1,mylist2))"
      ],
      "execution_count": null,
      "outputs": [
        {
          "output_type": "execute_result",
          "data": {
            "text/plain": [
              "[(1, 'a'), (2, 'b'), (3, 'c'), (4, 'd'), (5, 'e')]"
            ]
          },
          "metadata": {
            "tags": []
          },
          "execution_count": 25
        }
      ]
    },
    {
      "cell_type": "markdown",
      "metadata": {
        "id": "Gg_ASw_d40h9"
      },
      "source": [
        "## in operator\n",
        "\n",
        "We've already seen the **in** keyword durng the for loop, but we can also use it to quickly check if an object is in a list"
      ]
    },
    {
      "cell_type": "code",
      "metadata": {
        "id": "slOsEObI40h-",
        "outputId": "085a0abd-833f-4eb7-f865-18535ff03f6b",
        "colab": {
          "base_uri": "https://localhost:8080/"
        }
      },
      "source": [
        "'x' in ['y','z','x']"
      ],
      "execution_count": 6,
      "outputs": [
        {
          "output_type": "execute_result",
          "data": {
            "text/plain": [
              "True"
            ]
          },
          "metadata": {
            "tags": []
          },
          "execution_count": 6
        }
      ]
    },
    {
      "cell_type": "code",
      "metadata": {
        "id": "0fYkUUWd40iE",
        "outputId": "cc5939c4-7289-4240-8d6d-5ea22994dd5c",
        "colab": {
          "base_uri": "https://localhost:8080/"
        }
      },
      "source": [
        "'x' == 'y' or 'x' == 'z' or 'x' == 'x'"
      ],
      "execution_count": 5,
      "outputs": [
        {
          "output_type": "execute_result",
          "data": {
            "text/plain": [
              "True"
            ]
          },
          "metadata": {
            "tags": []
          },
          "execution_count": 5
        }
      ]
    },
    {
      "cell_type": "markdown",
      "metadata": {
        "id": "H_0rSvo040iX"
      },
      "source": [
        "## min and max\n",
        "\n",
        "Quickly check the minimum or maximum of a list with these functions."
      ]
    },
    {
      "cell_type": "code",
      "metadata": {
        "id": "HXQ2Lnt540iY"
      },
      "source": [
        "mylist = [1,2,3,4,5]"
      ],
      "execution_count": 7,
      "outputs": []
    },
    {
      "cell_type": "code",
      "metadata": {
        "id": "WsXVm1YK40ic",
        "outputId": "b20da4f1-0be4-4d6e-9f87-f05b579bf4dd",
        "colab": {
          "base_uri": "https://localhost:8080/"
        }
      },
      "source": [
        "min(mylist)"
      ],
      "execution_count": 8,
      "outputs": [
        {
          "output_type": "execute_result",
          "data": {
            "text/plain": [
              "1"
            ]
          },
          "metadata": {
            "tags": []
          },
          "execution_count": 8
        }
      ]
    },
    {
      "cell_type": "code",
      "metadata": {
        "id": "Sbi2i_JR40ii",
        "outputId": "21986133-0955-4e1b-c3b0-0d4f847cc8af",
        "colab": {
          "base_uri": "https://localhost:8080/"
        }
      },
      "source": [
        "max(mylist)"
      ],
      "execution_count": 9,
      "outputs": [
        {
          "output_type": "execute_result",
          "data": {
            "text/plain": [
              "5"
            ]
          },
          "metadata": {
            "tags": []
          },
          "execution_count": 9
        }
      ]
    },
    {
      "cell_type": "markdown",
      "metadata": {
        "id": "cru4zlHI40il"
      },
      "source": [
        "## random\n",
        "\n",
        "Python comes with a built in random library. There are a lot of functions included in this random library, so we will only show you two useful functions for now."
      ]
    },
    {
      "cell_type": "code",
      "metadata": {
        "id": "SWGUXbst40jA"
      },
      "source": [
        "from random import randint"
      ],
      "execution_count": 10,
      "outputs": []
    },
    {
      "cell_type": "code",
      "metadata": {
        "id": "MsPvf4EF40jF",
        "outputId": "1b0de0a6-135a-4067-fa97-cb98f55f9d00",
        "colab": {
          "base_uri": "https://localhost:8080/"
        }
      },
      "source": [
        "# Return random integer in range [a, b], including both end points.\n",
        "randint(0,100)"
      ],
      "execution_count": 13,
      "outputs": [
        {
          "output_type": "execute_result",
          "data": {
            "text/plain": [
              "85"
            ]
          },
          "metadata": {
            "tags": []
          },
          "execution_count": 13
        }
      ]
    },
    {
      "cell_type": "code",
      "metadata": {
        "id": "J-aKFJcP40jJ",
        "outputId": "fb0af24a-2e2b-45a2-b3a6-853afec539c8",
        "colab": {
          "base_uri": "https://localhost:8080/"
        }
      },
      "source": [
        "# Return random integer in range [a, b], including both end points.\n",
        "randint(50,60)"
      ],
      "execution_count": 16,
      "outputs": [
        {
          "output_type": "execute_result",
          "data": {
            "text/plain": [
              "59"
            ]
          },
          "metadata": {
            "tags": []
          },
          "execution_count": 16
        }
      ]
    },
    {
      "cell_type": "markdown",
      "metadata": {
        "id": "ZHFG751i40jN"
      },
      "source": [
        "## input"
      ]
    },
    {
      "cell_type": "code",
      "metadata": {
        "id": "ZMswa6bS40jO",
        "outputId": "78418de8-ad88-43c2-9ed3-d7a750a9e1ec",
        "colab": {
          "base_uri": "https://localhost:8080/",
          "height": 52
        }
      },
      "source": [
        "input()"
      ],
      "execution_count": 17,
      "outputs": [
        {
          "output_type": "stream",
          "text": [
            "India\n"
          ],
          "name": "stdout"
        },
        {
          "output_type": "execute_result",
          "data": {
            "application/vnd.google.colaboratory.intrinsic+json": {
              "type": "string"
            },
            "text/plain": [
              "'India'"
            ]
          },
          "metadata": {
            "tags": []
          },
          "execution_count": 17
        }
      ]
    },
    {
      "cell_type": "code",
      "metadata": {
        "id": "P_raS16j40jS",
        "outputId": "2ed61298-02a5-4a08-941d-22e8df55fd77",
        "colab": {
          "base_uri": "https://localhost:8080/",
          "height": 52
        }
      },
      "source": [
        "input('Enter your contact number: ')"
      ],
      "execution_count": 18,
      "outputs": [
        {
          "output_type": "stream",
          "text": [
            "Enter your contact number: 8989\n"
          ],
          "name": "stdout"
        },
        {
          "output_type": "execute_result",
          "data": {
            "application/vnd.google.colaboratory.intrinsic+json": {
              "type": "string"
            },
            "text/plain": [
              "'8989'"
            ]
          },
          "metadata": {
            "tags": []
          },
          "execution_count": 18
        }
      ]
    },
    {
      "cell_type": "code",
      "metadata": {
        "id": "ZGsRZgoH40jV",
        "outputId": "f9fd608d-d6b2-47b8-a6bf-04743601a85b",
        "colab": {
          "base_uri": "https://localhost:8080/"
        }
      },
      "source": [
        "int(input('Enter your contact number: '))"
      ],
      "execution_count": 19,
      "outputs": [
        {
          "output_type": "stream",
          "text": [
            "Enter your contact number: 8989\n"
          ],
          "name": "stdout"
        },
        {
          "output_type": "execute_result",
          "data": {
            "text/plain": [
              "8989"
            ]
          },
          "metadata": {
            "tags": []
          },
          "execution_count": 19
        }
      ]
    },
    {
      "cell_type": "code",
      "metadata": {
        "id": "dVWkbcyg40jc",
        "outputId": "adfbef63-f5d2-43e3-f998-7e3b9d4350c4",
        "colab": {
          "base_uri": "https://localhost:8080/"
        }
      },
      "source": [
        "num = int(input('Enter your contact number: '))"
      ],
      "execution_count": 20,
      "outputs": [
        {
          "output_type": "stream",
          "text": [
            "Enter your contact number: 8989\n"
          ],
          "name": "stdout"
        }
      ]
    },
    {
      "cell_type": "code",
      "metadata": {
        "id": "y9YA3-pV40jh",
        "outputId": "df52d21d-c157-45b5-fa1b-c214843dc625",
        "colab": {
          "base_uri": "https://localhost:8080/"
        }
      },
      "source": [
        "num"
      ],
      "execution_count": 21,
      "outputs": [
        {
          "output_type": "execute_result",
          "data": {
            "text/plain": [
              "8989"
            ]
          },
          "metadata": {
            "tags": []
          },
          "execution_count": 21
        }
      ]
    }
  ]
}