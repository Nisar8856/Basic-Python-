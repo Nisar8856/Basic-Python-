{
  "nbformat": 4,
  "nbformat_minor": 0,
  "metadata": {
    "colab": {
      "provenance": []
    },
    "kernelspec": {
      "name": "python3",
      "display_name": "Python 3"
    },
    "language_info": {
      "name": "python"
    }
  },
  "cells": [
    {
      "cell_type": "markdown",
      "source": [
        "#### BLACKJACK: Given three integers between 1 and 11,\n",
        "\n",
        "\n",
        "*   if their sum is less than or equal to 21, return their sum.\n",
        "*   If their sum exceeds 21 *and* there's an eleven, reduce the total sum by 10.\n",
        "*  if the sum (even after adjustment) exceeds 21, return 'BUST'\n",
        "\n",
        "    \n",
        "1.   blackjack(5,6,7) --> 18\n",
        "2.   blackjack(9,9,9) --> 'BUST'\n",
        "3. blackjack(9,9,11) --> 19\n",
        "\n"
      ],
      "metadata": {
        "id": "jTlUQRLgWJrL"
      }
    },
    {
      "cell_type": "code",
      "source": [
        "def blackjack(a,b,c):\n",
        "    if sum((a,b,c)) <= 21:\n",
        "        return sum((a,b,c))\n",
        "    elif sum((a,b,c)) <=31 and 11 in (a,b,c):\n",
        "        return sum((a,b,c)) - 10\n",
        "    else:\n",
        "        return 'BUST'"
      ],
      "metadata": {
        "id": "DV3c1mKEWKpn"
      },
      "execution_count": null,
      "outputs": []
    },
    {
      "cell_type": "markdown",
      "source": [
        "#### PAPER DOLL: Given a string, return a string where for every character in the original there are three characters\n",
        "    \n",
        "\n",
        "*   paper_doll('Hello') --> 'HHHeeellllllooo'\n",
        "*   paper_doll('Mississippi') --> 'MMMiiissssssiiippppppiii'\n",
        "    "
      ],
      "metadata": {
        "id": "QMWrjMeAXub7"
      }
    },
    {
      "cell_type": "code",
      "source": [
        "def paper_doll(text):\n",
        "    result = ''\n",
        "    for char in text:\n",
        "        result = result + char * 3\n",
        "    return result"
      ],
      "metadata": {
        "id": "fYvw2yoHXzwf"
      },
      "execution_count": 7,
      "outputs": []
    },
    {
      "cell_type": "code",
      "source": [
        "paper_doll('Hello')"
      ],
      "metadata": {
        "colab": {
          "base_uri": "https://localhost:8080/",
          "height": 35
        },
        "id": "dZimPYiXY6xh",
        "outputId": "faad68b1-2109-4a6b-ab02-c4bcf160bcba"
      },
      "execution_count": 3,
      "outputs": [
        {
          "output_type": "execute_result",
          "data": {
            "text/plain": [
              "'HHHeeellllllooo'"
            ],
            "application/vnd.google.colaboratory.intrinsic+json": {
              "type": "string"
            }
          },
          "metadata": {},
          "execution_count": 3
        }
      ]
    },
    {
      "cell_type": "code",
      "source": [
        "def paper_doll(word):\n",
        "  for i in word:\n",
        "      print(i*3,end=\"\")\n",
        "paper_doll('Hello')"
      ],
      "metadata": {
        "colab": {
          "base_uri": "https://localhost:8080/"
        },
        "id": "iBPajioXZUuC",
        "outputId": "280a27aa-834c-4c16-e3ae-3fa600da6022"
      },
      "execution_count": 8,
      "outputs": [
        {
          "output_type": "stream",
          "name": "stdout",
          "text": [
            "HHHeeellllllooo"
          ]
        }
      ]
    },
    {
      "cell_type": "code",
      "source": [
        "def paper_doll(word):\n",
        "  return ''.join(char *3 for char in word)"
      ],
      "metadata": {
        "id": "gBn_J9NcaHxN"
      },
      "execution_count": null,
      "outputs": []
    },
    {
      "cell_type": "markdown",
      "source": [
        "#### SUMMER OF '69: Return the sum of the numbers in the list, except ignore sections of numbers starting with a 6 and extending to the next 9 (every 6 will be followed by at least one 9 in input). Return 0 for no numbers.\n",
        "\n",
        "    summer_69([1, 3, 5]) --> 9\n",
        "    summer_69([4, 5, 6, 7, 8, 9]) --> 9\n",
        "    summer_69([2, 1, 6, 9, 11]) --> 14\n",
        "    summer_69([]) --> 0"
      ],
      "metadata": {
        "id": "GbQDZPieaeD8"
      }
    },
    {
      "cell_type": "code",
      "source": [
        "def summer_69(arr): # define a function which can accept list of numbers\n",
        "    total = 0 # define  a variable in which we can add all numbers except a) 6 and b) 9 and c) numbers which are in between 6 and 9\n",
        "    add = True\n",
        "    for num in arr:\n",
        "        while add: # c)\n",
        "            if num != 6: # a)\n",
        "                total = total + num\n",
        "                break\n",
        "            else:\n",
        "                add = False\n",
        "        while not add: # b)\n",
        "            if num != 9:\n",
        "                break\n",
        "            else:\n",
        "                add = True\n",
        "                break\n",
        "    return total"
      ],
      "metadata": {
        "id": "E6vwv8c0afBF"
      },
      "execution_count": null,
      "outputs": []
    },
    {
      "cell_type": "markdown",
      "source": [
        "Complex examples related to functions"
      ],
      "metadata": {
        "id": "RVKCy4RadzJ6"
      }
    },
    {
      "cell_type": "markdown",
      "source": [
        "Scope of variabls and functions"
      ],
      "metadata": {
        "id": "1P-btRjRhDk9"
      }
    },
    {
      "cell_type": "code",
      "source": [
        "def flat():\n",
        "  print('I am in flat')\n",
        "  def kitchen():\n",
        "    print('I am in kitchen')\n",
        "  kitchen()"
      ],
      "metadata": {
        "id": "8cZPxsVWd3NY"
      },
      "execution_count": 40,
      "outputs": []
    },
    {
      "cell_type": "code",
      "source": [
        "flat()"
      ],
      "metadata": {
        "colab": {
          "base_uri": "https://localhost:8080/"
        },
        "id": "QMqegenOd9W5",
        "outputId": "12e27199-e293-43a5-f78f-45988caea802"
      },
      "execution_count": 41,
      "outputs": [
        {
          "output_type": "stream",
          "name": "stdout",
          "text": [
            "I am in flat\n",
            "I am in kitchen\n"
          ]
        }
      ]
    },
    {
      "cell_type": "code",
      "source": [
        "kitchen()"
      ],
      "metadata": {
        "colab": {
          "base_uri": "https://localhost:8080/",
          "height": 177
        },
        "id": "0zlm1ds7eG3a",
        "outputId": "03079b38-108a-47bc-fc32-370ac358060e"
      },
      "execution_count": 42,
      "outputs": [
        {
          "output_type": "error",
          "ename": "NameError",
          "evalue": "ignored",
          "traceback": [
            "\u001b[0;31m---------------------------------------------------------------------------\u001b[0m",
            "\u001b[0;31mNameError\u001b[0m                                 Traceback (most recent call last)",
            "\u001b[0;32m<ipython-input-42-8aec0451613a>\u001b[0m in \u001b[0;36m<cell line: 1>\u001b[0;34m()\u001b[0m\n\u001b[0;32m----> 1\u001b[0;31m \u001b[0mkitchen\u001b[0m\u001b[0;34m(\u001b[0m\u001b[0;34m)\u001b[0m\u001b[0;34m\u001b[0m\u001b[0;34m\u001b[0m\u001b[0m\n\u001b[0m",
            "\u001b[0;31mNameError\u001b[0m: name 'kitchen' is not defined"
          ]
        }
      ]
    },
    {
      "cell_type": "code",
      "source": [
        "x = 10 # this copy of x is defined outside the function, scope of this copy is:  inside document you can call it anywhere\n",
        "def sample():\n",
        "  x = 100 # this copy of x is defined inside the function, scope of this copy is: you can call it inside its function only\n",
        "  return x, id(x)"
      ],
      "metadata": {
        "id": "IiuOYsjafn1D"
      },
      "execution_count": 32,
      "outputs": []
    },
    {
      "cell_type": "code",
      "source": [
        "print(x, id(x))"
      ],
      "metadata": {
        "colab": {
          "base_uri": "https://localhost:8080/"
        },
        "id": "qgpWBJhpfslX",
        "outputId": "3bef91a8-420d-47d1-a4e5-db4a0b4bcf78"
      },
      "execution_count": 33,
      "outputs": [
        {
          "output_type": "stream",
          "name": "stdout",
          "text": [
            "10 134186647437840\n"
          ]
        }
      ]
    },
    {
      "cell_type": "code",
      "source": [
        "sample()"
      ],
      "metadata": {
        "colab": {
          "base_uri": "https://localhost:8080/"
        },
        "id": "Tjb3hlFFf00N",
        "outputId": "353561e3-85bc-48f0-ffc1-c0fedc49b886"
      },
      "execution_count": 34,
      "outputs": [
        {
          "output_type": "execute_result",
          "data": {
            "text/plain": [
              "(100, 134186647440720)"
            ]
          },
          "metadata": {},
          "execution_count": 34
        }
      ]
    },
    {
      "cell_type": "code",
      "source": [
        "a = 10  # this copy of a is defined outside the function\n",
        "def dummy():\n",
        "  global a # this is referring the same copy of  a which is defined outside the function, and this is global copy means if you make any changes inside the function/ outside function , changes will reflect in same variable's copy\n",
        "  a = 200\n",
        "  return a , id(a)"
      ],
      "metadata": {
        "id": "2lO5_bz7f1j2"
      },
      "execution_count": 48,
      "outputs": []
    },
    {
      "cell_type": "code",
      "source": [
        "print(a, id(a) , 'before you run function')"
      ],
      "metadata": {
        "colab": {
          "base_uri": "https://localhost:8080/"
        },
        "id": "4-U76LuYgIlo",
        "outputId": "ad69750f-8eb1-4f14-f497-ccfe22902992"
      },
      "execution_count": 49,
      "outputs": [
        {
          "output_type": "stream",
          "name": "stdout",
          "text": [
            "10 134186647437840 before you run function\n"
          ]
        }
      ]
    },
    {
      "cell_type": "code",
      "source": [
        "dummy()"
      ],
      "metadata": {
        "colab": {
          "base_uri": "https://localhost:8080/"
        },
        "id": "xuzG3d69gJqo",
        "outputId": "d2296169-67e3-4cfa-aac7-a032fc2d3ea5"
      },
      "execution_count": 50,
      "outputs": [
        {
          "output_type": "execute_result",
          "data": {
            "text/plain": [
              "(200, 134186647443920)"
            ]
          },
          "metadata": {},
          "execution_count": 50
        }
      ]
    },
    {
      "cell_type": "code",
      "source": [
        "print(a, id(a) , 'after you run function')"
      ],
      "metadata": {
        "colab": {
          "base_uri": "https://localhost:8080/"
        },
        "id": "K3qdRpOQgK7u",
        "outputId": "f39dca42-1183-489f-90b5-01e8d78a71fb"
      },
      "execution_count": 51,
      "outputs": [
        {
          "output_type": "stream",
          "name": "stdout",
          "text": [
            "200 134186647443920 after you run function\n"
          ]
        }
      ]
    },
    {
      "cell_type": "markdown",
      "source": [
        "We can nest n number of functions"
      ],
      "metadata": {
        "id": "TdV2sKdCj-nS"
      }
    },
    {
      "cell_type": "code",
      "source": [
        "def test1():\n",
        "  print('I am in test1')\n",
        "  def test2():\n",
        "    print('I am in test2')\n",
        "    def test3():\n",
        "      print('I am in test3')\n",
        "    test3()\n",
        "  def test4():\n",
        "    print('I am in test4')\n",
        "  test2()\n",
        "  test4()\n",
        "  print('I came back in test1')"
      ],
      "metadata": {
        "id": "n9Q_8jRYkDwE"
      },
      "execution_count": 62,
      "outputs": []
    },
    {
      "cell_type": "code",
      "source": [
        "test1()"
      ],
      "metadata": {
        "colab": {
          "base_uri": "https://localhost:8080/"
        },
        "id": "jwZ1boWTkSB6",
        "outputId": "df45f93c-1be0-449d-b9dc-b4837d05e898"
      },
      "execution_count": 63,
      "outputs": [
        {
          "output_type": "stream",
          "name": "stdout",
          "text": [
            "I am in test1\n",
            "I am in test2\n",
            "I am in test3\n",
            "I am in test4\n",
            "I came back in test1\n"
          ]
        }
      ]
    },
    {
      "cell_type": "code",
      "source": [
        "test4()"
      ],
      "metadata": {
        "colab": {
          "base_uri": "https://localhost:8080/",
          "height": 177
        },
        "id": "f6xj6jWKkS1g",
        "outputId": "3004cf5e-2d0c-4bff-d684-a458c3ff8fe3"
      },
      "execution_count": 64,
      "outputs": [
        {
          "output_type": "error",
          "ename": "NameError",
          "evalue": "ignored",
          "traceback": [
            "\u001b[0;31m---------------------------------------------------------------------------\u001b[0m",
            "\u001b[0;31mNameError\u001b[0m                                 Traceback (most recent call last)",
            "\u001b[0;32m<ipython-input-64-f342c205893c>\u001b[0m in \u001b[0;36m<cell line: 1>\u001b[0;34m()\u001b[0m\n\u001b[0;32m----> 1\u001b[0;31m \u001b[0mtest4\u001b[0m\u001b[0;34m(\u001b[0m\u001b[0;34m)\u001b[0m\u001b[0;34m\u001b[0m\u001b[0;34m\u001b[0m\u001b[0m\n\u001b[0m",
            "\u001b[0;31mNameError\u001b[0m: name 'test4' is not defined"
          ]
        }
      ]
    },
    {
      "cell_type": "code",
      "source": [
        "def funa():\n",
        "  print(\"l am in fun1\")\n",
        "  def fun2():\n",
        "    print('l am in fun2')\n",
        "    def fun3():\n",
        "      print('l am in fun3')\n",
        "    fun3()"
      ],
      "metadata": {
        "id": "wB0SWgwpk4Fu"
      },
      "execution_count": 65,
      "outputs": []
    },
    {
      "cell_type": "code",
      "source": [
        "funa()"
      ],
      "metadata": {
        "colab": {
          "base_uri": "https://localhost:8080/"
        },
        "id": "TmuWHoAjlBNe",
        "outputId": "91a63801-4793-4319-8178-c11395ac3328"
      },
      "execution_count": 66,
      "outputs": [
        {
          "output_type": "stream",
          "name": "stdout",
          "text": [
            "l am in fun1\n"
          ]
        }
      ]
    }
  ]
}