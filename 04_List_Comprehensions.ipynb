{
  "nbformat": 4,
  "nbformat_minor": 0,
  "metadata": {
    "kernelspec": {
      "display_name": "Python 3",
      "language": "python",
      "name": "python3"
    },
    "language_info": {
      "codemirror_mode": {
        "name": "ipython",
        "version": 3
      },
      "file_extension": ".py",
      "mimetype": "text/x-python",
      "name": "python",
      "nbconvert_exporter": "python",
      "pygments_lexer": "ipython3",
      "version": "3.7.3"
    },
    "colab": {
      "name": "04-List Comprehensions.ipynb",
      "provenance": []
    }
  },
  "cells": [
    {
      "cell_type": "markdown",
      "metadata": {
        "collapsed": true,
        "id": "3sbOGGRZ42_6"
      },
      "source": [
        "# List Comprehensions\n",
        "\n",
        "In addition to sequence operations and list methods, Python includes a more advanced operation called a list comprehension.\n",
        "\n",
        "List comprehensions allow us to build out lists using a different notation. You can think of it as essentially a one line <code>for</code> loop built inside of brackets. For a simple example:\n",
        "## Example 1"
      ]
    },
    {
      "cell_type": "code",
      "metadata": {
        "id": "Byv6-HPB42_-",
        "outputId": "89f0c582-6a10-47ed-e9df-af9f26c522aa",
        "colab": {
          "base_uri": "https://localhost:8080/"
        }
      },
      "source": [
        " for x in 'word':\n",
        "    print(x)"
      ],
      "execution_count": 1,
      "outputs": [
        {
          "output_type": "stream",
          "text": [
            "w\n",
            "o\n",
            "r\n",
            "d\n"
          ],
          "name": "stdout"
        }
      ]
    },
    {
      "cell_type": "code",
      "metadata": {
        "id": "ErKquybz43AI",
        "outputId": "99624f0c-0a4d-46fe-a30f-c0841ce60ca8",
        "colab": {
          "base_uri": "https://localhost:8080/"
        }
      },
      "source": [
        "[x for x in 'word']"
      ],
      "execution_count": 2,
      "outputs": [
        {
          "output_type": "execute_result",
          "data": {
            "text/plain": [
              "['w', 'o', 'r', 'd']"
            ]
          },
          "metadata": {
            "tags": []
          },
          "execution_count": 2
        }
      ]
    },
    {
      "cell_type": "markdown",
      "metadata": {
        "id": "mdhGAxm843AQ"
      },
      "source": [
        "This is the basic idea of a list comprehension. If you're familiar with mathematical notation this format should feel familiar for example: x^2 : x in { 0,1,2...10 } \n",
        "\n",
        "Let's see a few more examples of list comprehensions in Python:\n",
        "## Example 2"
      ]
    },
    {
      "cell_type": "code",
      "metadata": {
        "id": "w6pVXhQ643AS"
      },
      "source": [
        "# Square numbers in range and turn into list\n",
        "lst = [x**2 for x in range(0,11)]"
      ],
      "execution_count": 3,
      "outputs": []
    },
    {
      "cell_type": "code",
      "metadata": {
        "id": "AgmpdD6g43Ab",
        "outputId": "98eb3d73-95e0-427c-f9ab-1fb5182b0211",
        "colab": {
          "base_uri": "https://localhost:8080/"
        }
      },
      "source": [
        "lst"
      ],
      "execution_count": 4,
      "outputs": [
        {
          "output_type": "execute_result",
          "data": {
            "text/plain": [
              "[0, 1, 4, 9, 16, 25, 36, 49, 64, 81, 100]"
            ]
          },
          "metadata": {
            "tags": []
          },
          "execution_count": 4
        }
      ]
    }
  ]
}