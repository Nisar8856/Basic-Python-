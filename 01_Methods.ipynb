{
  "nbformat": 4,
  "nbformat_minor": 0,
  "metadata": {
    "kernelspec": {
      "display_name": "Python 3",
      "language": "python",
      "name": "python3"
    },
    "language_info": {
      "codemirror_mode": {
        "name": "ipython",
        "version": 3
      },
      "file_extension": ".py",
      "mimetype": "text/x-python",
      "name": "python",
      "nbconvert_exporter": "python",
      "pygments_lexer": "ipython3",
      "version": "3.7.3"
    },
    "colab": {
      "name": "01_Methods.ipynb",
      "provenance": []
    }
  },
  "cells": [
    {
      "cell_type": "markdown",
      "metadata": {
        "id": "Zjh5RRUdtzVt"
      },
      "source": [
        "# Methods\n",
        "\n",
        "We've already seen a few example of methods when learning about Object and Data Structure Types in Python. Methods are essentially functions built into objects. Later on in the course we will learn about how to create our own objects and methods using Object Oriented Programming (OOP) and classes.\n",
        "\n",
        "Methods perform specific actions on an object and can also take arguments, just like a function. This lecture will serve as just a brief introduction to methods and get you thinking about overall design methods that we will touch back upon when we reach OOP in the course.\n",
        "\n",
        "Methods are in the form:\n",
        "\n",
        "    object.method(arg1,arg2,etc...)\n",
        "    \n",
        "You'll later see that we can think of methods as having an argument 'self' referring to the object itself. You can't see this argument but we will be using it later on in the course during the OOP lectures.\n",
        "\n",
        "Let's take a quick look at what an example of the various methods a list has:"
      ]
    },
    {
      "cell_type": "code",
      "metadata": {
        "id": "il9qFZshtzVw"
      },
      "source": [
        "# Create a simple list\n",
        "lst = [1,2,3,4,2,2,4,5]"
      ],
      "execution_count": 6,
      "outputs": []
    },
    {
      "cell_type": "code",
      "metadata": {
        "id": "U7JbJ7PuAxfR",
        "outputId": "545abf8a-ffb3-4062-e142-131bbd137ff0",
        "colab": {
          "base_uri": "https://localhost:8080/"
        }
      },
      "source": [
        "len(lst)"
      ],
      "execution_count": 7,
      "outputs": [
        {
          "output_type": "execute_result",
          "data": {
            "text/plain": [
              "8"
            ]
          },
          "metadata": {
            "tags": []
          },
          "execution_count": 7
        }
      ]
    },
    {
      "cell_type": "markdown",
      "metadata": {
        "id": "EQc3ZNnRtzWl"
      },
      "source": [
        "###### Great! Now how about count()? The count() method will count the number of occurrences of an element in a list."
      ]
    },
    {
      "cell_type": "code",
      "metadata": {
        "id": "flUAYBSFtzWn",
        "outputId": "5cd0ffbb-6d5e-499d-b029-6de79e7f8bbf",
        "colab": {
          "base_uri": "https://localhost:8080/"
        }
      },
      "source": [
        "# Check how many times 2 shows up in the list\n",
        "lst.count(2)"
      ],
      "execution_count": 10,
      "outputs": [
        {
          "output_type": "execute_result",
          "data": {
            "text/plain": [
              "3"
            ]
          },
          "metadata": {
            "tags": []
          },
          "execution_count": 10
        }
      ]
    },
    {
      "cell_type": "markdown",
      "metadata": {
        "id": "C2YHGz-ntzWv"
      },
      "source": [
        "You can always use Shift+Tab in the Jupyter Notebook to get more help about the method. In general Python you can use the help() function: "
      ]
    },
    {
      "cell_type": "code",
      "metadata": {
        "scrolled": true,
        "id": "WTuPed3FtzWx",
        "outputId": "a6eebbfe-1e7a-4cf2-fca5-c381abfddb0b",
        "colab": {
          "base_uri": "https://localhost:8080/"
        }
      },
      "source": [
        "help(lst.count)"
      ],
      "execution_count": 11,
      "outputs": [
        {
          "output_type": "stream",
          "text": [
            "Help on built-in function count:\n",
            "\n",
            "count(...) method of builtins.list instance\n",
            "    L.count(value) -> integer -- return number of occurrences of value\n",
            "\n"
          ],
          "name": "stdout"
        }
      ]
    },
    {
      "cell_type": "code",
      "metadata": {
        "id": "XgKv31Ncv6wX"
      },
      "source": [
        "list1 = [1,2,3,4,5]\n",
        "list2 = [6,7,8,9]\n",
        "list1.extend(list2)"
      ],
      "execution_count": 12,
      "outputs": []
    },
    {
      "cell_type": "code",
      "metadata": {
        "id": "Tlzz8yk-wJGD",
        "outputId": "c1374478-9825-446e-db53-1607ccc955e7",
        "colab": {
          "base_uri": "https://localhost:8080/"
        }
      },
      "source": [
        "list1"
      ],
      "execution_count": 13,
      "outputs": [
        {
          "output_type": "execute_result",
          "data": {
            "text/plain": [
              "[1, 2, 3, 4, 5, 6, 7, 8, 9]"
            ]
          },
          "metadata": {
            "tags": []
          },
          "execution_count": 13
        }
      ]
    },
    {
      "cell_type": "code",
      "metadata": {
        "id": "Uf0q8FKZBheR",
        "outputId": "e5190274-c64e-4d75-a871-7dd02ab22b0f",
        "colab": {
          "base_uri": "https://localhost:8080/"
        }
      },
      "source": [
        "help(list1.extend)"
      ],
      "execution_count": 17,
      "outputs": [
        {
          "output_type": "stream",
          "text": [
            "Help on built-in function extend:\n",
            "\n",
            "extend(...) method of builtins.list instance\n",
            "    L.extend(iterable) -> None -- extend list by appending elements from the iterable\n",
            "\n"
          ],
          "name": "stdout"
        }
      ]
    },
    {
      "cell_type": "code",
      "metadata": {
        "id": "Gx1u4flntzXW",
        "outputId": "7f9fb45b-4952-4853-e318-958279ac1a0d",
        "colab": {
          "base_uri": "https://localhost:8080/"
        }
      },
      "source": [
        "len(list1)"
      ],
      "execution_count": 18,
      "outputs": [
        {
          "output_type": "execute_result",
          "data": {
            "text/plain": [
              "9"
            ]
          },
          "metadata": {
            "tags": []
          },
          "execution_count": 18
        }
      ]
    },
    {
      "cell_type": "markdown",
      "metadata": {
        "id": "7WP-9wTotzYx"
      },
      "source": [
        "Great! By this lecture you should feel comfortable calling methods of objects in Python!"
      ]
    }
  ]
}